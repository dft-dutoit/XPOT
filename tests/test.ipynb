{
 "cells": [
  {
   "cell_type": "code",
   "execution_count": 1,
   "metadata": {},
   "outputs": [],
   "source": [
    "import xpot.loaders as load\n",
    "\n",
    "a = {\n",
    "        \"cutoff\": 5,\n",
    "        \"seed\": \"a\",\n",
    "        \"heinousness\": \"low\",\n",
    "        \"rand_list\": [1, 2, 4],\n",
    "    }\n",
    "\n",
    "b = {\n",
    "        \"test\": \"yes\",\n",
    "        \"cutoff\": 5,\n",
    "        \"seed\": \"a\",\n",
    "        \"heinousness\": \"low\",\n",
    "        \"rand_list\": [1, 2, 4],\n",
    "    }"
   ]
  },
  {
   "cell_type": "code",
   "execution_count": 2,
   "metadata": {},
   "outputs": [],
   "source": [
    "val = all([a[k] == b[k] for k in a.keys()])"
   ]
  },
  {
   "cell_type": "code",
   "execution_count": 4,
   "metadata": {},
   "outputs": [
    {
     "data": {
      "text/plain": [
       "True"
      ]
     },
     "execution_count": 4,
     "metadata": {},
     "output_type": "execute_result"
    }
   ],
   "source": [
    "val"
   ]
  }
 ],
 "metadata": {
  "kernelspec": {
   "display_name": "autoplex-dev",
   "language": "python",
   "name": "python3"
  },
  "language_info": {
   "codemirror_mode": {
    "name": "ipython",
    "version": 3
   },
   "file_extension": ".py",
   "mimetype": "text/x-python",
   "name": "python",
   "nbconvert_exporter": "python",
   "pygments_lexer": "ipython3",
   "version": "3.10.14"
  }
 },
 "nbformat": 4,
 "nbformat_minor": 2
}
