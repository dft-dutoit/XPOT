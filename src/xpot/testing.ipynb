{
 "cells": [
  {
   "cell_type": "code",
   "execution_count": null,
   "metadata": {},
   "outputs": [],
   "source": [
    "from loaders import *\n",
    "\n",
    "def reconstitute_lists(hypers: NestedDict) -> NestedDict:\n",
    "    \"\"\"\n",
    "    Reconstitute lists from separated keys sorted by index in the \n",
    "    hyperparameter dictionary.\n",
    "\n",
    "    Parameters\n",
    "    ----------\n",
    "    hypers : dict\n",
    "        The hyperparameters in dictionary format, with lists separated into \n",
    "        key per index.\n",
    "    \n",
    "    Returns\n",
    "    -------\n",
    "    dict\n",
    "        The hyperparameters with lists reconstituted from strings.\n",
    "    \"\"\"\n",
    "    temp_hypers = {}\n",
    "    my_list = []\n",
    "    last_tuple = ()\n",
    "    for tuples in recursive_items(hypers):\n",
    "        temp_dict = hypers\n",
    "        print(tuples)\n",
    "        for x in tuples[0][:-1]:\n",
    "            print(x)\n",
    "            if x.isdigit():\n",
    "                if isinstance(temp_dict, list):\n",
    "                    temp_dict.append(tuples[-1])\n",
    "                else:\n",
    "                    temp_dict = []\n",
    "                    temp_dict.append(tuples[-1])             \n",
    "            else:\n",
    "                temp_dict = temp_dict[x]\n",
    "\n",
    "    return hypers\n",
    "\n",
    "in_dict = get_defaults(\"/home/epsilon/vld/scat7402/software/new-xpot/src/xpot/defaults/ace_defaults.json\")\n",
    "#print()\n",
    "print(in_dict)\n",
    "in_dict[\"potential\"][\"embeddings\"][\"definition\"][\"fs_parameters\"][1] = 0.7\n",
    "out_dict = reconstitute_lists(in_dict)\n",
    "print(out_dict)"
   ]
  },
  {
   "cell_type": "code",
   "execution_count": null,
   "metadata": {},
   "outputs": [],
   "source": [
    "import pandas as pd\n",
    "\n",
    "def collect_raw_errors(filename: str) -> pd.DataFrame:\n",
    "    \"\"\"\n",
    "    Collect the raw errors from the fitting output file.\n",
    "\n",
    "    Parameters\n",
    "    ----------\n",
    "    filename : str\n",
    "        Path to the fitting output file.\n",
    "    \n",
    "    Returns\n",
    "    -------\n",
    "    pandas.DataFrame\n",
    "        DataFrame of raw errors.\n",
    "    \"\"\"\n",
    "    df = pd.read_table(\n",
    "        filename,\n",
    "        sep=\"|\",\n",
    "        header=0,\n",
    "        #index_col=0,\n",
    "        skipinitialspace=True,\n",
    "        ).dropna(axis=1, how=\"all\").iloc[1:]\n",
    "    \n",
    "    return df"
   ]
  },
  {
   "cell_type": "code",
   "execution_count": 37,
   "metadata": {},
   "outputs": [],
   "source": [
    "df = collect_raw_errors(\"/u/vld/scat7402/xpop-sims/gap_17_snap_test/opt_SNAP/l_4_gap17_test/3/newsnap_metrics.md\")\n",
    "#print(df)"
   ]
  },
  {
   "cell_type": "code",
   "execution_count": 38,
   "metadata": {},
   "outputs": [
    {
     "name": "stdout",
     "output_type": "stream",
     "text": [
      "Index(['Unnamed: 1', 'ncount ', 'mae ', 'rmse ', 'rsq '], dtype='object')\n"
     ]
    }
   ],
   "source": [
    "print(df.columns)"
   ]
  },
  {
   "cell_type": "code",
   "execution_count": null,
   "metadata": {},
   "outputs": [],
   "source": [
    "a = df[\"Unnamed: 1\"].values.tolist()\n",
    "list_2 = [eval(i.strip(\" \")) for i in a]\n",
    "df[\"Unnamed: 1\"] = list_2\n",
    "print(list_2)\n",
    "#print(df)"
   ]
  },
  {
   "cell_type": "code",
   "execution_count": null,
   "metadata": {},
   "outputs": [],
   "source": [
    "import pandas as pd\n",
    "\n",
    "def drop_rows_containing_string(df, column_name, string_to_check):\n",
    "    # Check if the column exists in the dataframe\n",
    "    if column_name not in df.columns:\n",
    "        print(f\"Column '{column_name}' not found in the dataframe.\")\n",
    "        return df\n",
    "\n",
    "    # Use boolean indexing to filter rows that contain the specified string in any tuple element\n",
    "    mask = df[column_name].apply(lambda x: any(string_to_check in str(element) for element in x))\n",
    "    rows_to_drop = df[mask]\n",
    "\n",
    "    # Drop the rows from the dataframe\n",
    "    df = df.drop(rows_to_drop.index)\n",
    "\n",
    "    return df\n",
    "\n",
    "# Example usage:\n",
    "# Assuming df is your dataframe and 'your_column' is the column containing tuples\n",
    "df = pd.DataFrame({\n",
    "    'ID': [1, 2, 3, 4],\n",
    "    'Your_Column': [('Weighted', 10), ('Not Weighted', 20), ('Weighted', 30), ('Not Weighted', 40)]\n",
    "})\n",
    "\n",
    "print(\"Before dropping rows:\")\n",
    "print(df)\n",
    "\n",
    "df = drop_rows_containing_string(df, 'Your_Column', 'Weighted')\n",
    "\n",
    "print(\"\\nAfter dropping rows:\")\n",
    "print(df)\n"
   ]
  },
  {
   "cell_type": "code",
   "execution_count": null,
   "metadata": {},
   "outputs": [],
   "source": []
  }
 ],
 "metadata": {
  "kernelspec": {
   "display_name": "ace-gpu",
   "language": "python",
   "name": "python3"
  },
  "language_info": {
   "codemirror_mode": {
    "name": "ipython",
    "version": 3
   },
   "file_extension": ".py",
   "mimetype": "text/x-python",
   "name": "python",
   "nbconvert_exporter": "python",
   "pygments_lexer": "ipython3",
   "version": "3.9.13"
  }
 },
 "nbformat": 4,
 "nbformat_minor": 2
}
