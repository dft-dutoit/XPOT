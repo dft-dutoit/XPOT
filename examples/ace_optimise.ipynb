{
 "cells": [
  {
   "cell_type": "markdown",
   "metadata": {},
   "source": [
    "# ACE Optimisation using XPOT\n",
    "\n",
    "This is a simple example of optimising parameters for ACE models using the XPOT package. We start by initialising an instance of the `PACE` class, which reads in the input file and sets up everything required for the PACE model to be fitted by the optimiser. The input file can be found in the examples folder."
   ]
  },
  {
   "cell_type": "code",
   "execution_count": 1,
   "metadata": {},
   "outputs": [],
   "source": [
    "from xpot.models import PACE\n",
    "\n",
    "mlip = PACE(\"ace_input.hjson\")"
   ]
  },
  {
   "cell_type": "markdown",
   "metadata": {},
   "source": [
    "Now that the ML potential object is set up, we can inspect the parameters that have been defined for optimisation in the input file, and check that those have been correctly parsed by the `PACE` class. The second cell prints the entire parameter dictionary, and will be used throughout the optimisation and updated with the new parameter values for each iteration."
   ]
  },
  {
   "cell_type": "code",
   "execution_count": 2,
   "metadata": {},
   "outputs": [
    {
     "name": "stdout",
     "output_type": "stream",
     "text": [
      "{(('potential', 'embeddings', 'ALL', 'fs_parameters', '3'),): Real(low=0.1, high=2, prior='uniform', transform='identity'), (('potential', 'bonds', 'ALL', 'radparameters', '0'),): Real(low=1, high=10, prior='uniform', transform='identity'), (('potential', 'bonds', 'ALL', 'rcut'),): Real(low=3, high=6, prior='uniform', transform='identity'), (('potential', 'bonds', 'ALL', 'dcut'),): Real(low=0.001, high=0.1, prior='uniform', transform='identity'), (('potential', 'functions', 'number_of_functions_per_element'),): Integer(low=10, high=100, prior='uniform', transform='identity')}\n"
     ]
    }
   ],
   "source": [
    "print(mlip.optimisation_space)"
   ]
  },
  {
   "cell_type": "code",
   "execution_count": 3,
   "metadata": {},
   "outputs": [
    {
     "name": "stdout",
     "output_type": "stream",
     "text": [
      "{'cutoff': 6, 'seed': 42, 'metadata': OrderedDict([('purpose', 'Potential fit')]), 'data': OrderedDict([('filename', '/home/inputs/train_data_fixed.pkl.gzip'), ('test_filename', '/home/inputs/test_data_fixed.pkl.gzip')]), 'potential': OrderedDict([('deltaSplineBins', 0.001), ('elements', ['Si']), ('embeddings', OrderedDict([('ALL', OrderedDict([('npot', 'FinnisSinclairShiftedScaled'), ('fs_parameters', [1, 1, 1, 'skopt.space.Real(0.1, 2)']), ('ndensity', 2), ('rho_core_cut', 3000), ('drho_core_cut', 500)]))])), ('rankmax', ''), ('bonds', OrderedDict([('ALL', OrderedDict([('radbase', 'SBessel'), ('radparameters', ['skopt.space.Real(1,10)']), ('rcut', 'skopt.space.Real(3,6)'), ('dcut', 'skopt.space.Real(0.001, 0.1)'), ('r_in', ''), ('delta_in', ''), ('core-repulsion', ''), ('NameofCutoffFunction', 'cos')]))])), ('functions', OrderedDict([('number_of_functions_per_element', 'skopt.space.Integer(10,100)'), ('ALL', OrderedDict([('nradmax_by_orders', [15, 6, 4, 3, 2, 2]), ('lmax_by_orders', [0, 6, 3, 2, 1, 1]), ('coeffs_init', '')])), ('initial_potential', '')]))]), 'fit': OrderedDict([('loss', OrderedDict([('kappa', 'auto'), ('L1_coeffs', 1e-08), ('L2_coeffs', 1e-08), ('w0_rad', 1e-08), ('w1_rad', 1e-08), ('w2_rad', 1e-08), ('w1_coeffs', 0), ('w2_coeffs', 0), ('w_orth', '')])), ('optimizer', 'BFGS'), ('options', ''), ('maxiter', 10), ('repulsion', 'auto'), ('trainable_parameters', 'ALL'), ('fit_cycles', ''), ('noise_relative_sigma', ''), ('noise_absolute_sigma', ''), ('randomize_func_coeffs', ''), ('callbacks', '')]), 'backend': OrderedDict([('evaluator', 'tensorpot'), ('batch_size', 50), ('batch_size_reduction', 'True'), ('batch_size_reduction_factor', 2), ('display_step', 50), ('gpu_config', OrderedDict([('mem_limit', 0)]))])}\n"
     ]
    }
   ],
   "source": [
    "print(mlip.ace_total)"
   ]
  },
  {
   "cell_type": "markdown",
   "metadata": {},
   "source": [
    "Now that the ML potential object is set up, we can import and initialise the optimiser which wraps around the ML potential object. the kwargs dictionary passes optimization parameters to the optimizer, possible values and their defaults are documented at [`scikit_optimize.Optimizer`](https://scikit-optimize.github.io/dev/modules/generated/skopt.Optimizer.html#skopt.Optimizer)."
   ]
  },
  {
   "cell_type": "code",
   "execution_count": 4,
   "metadata": {},
   "outputs": [
    {
     "name": "stdout",
     "output_type": "stream",
     "text": [
      "Initialised CSV Files\n"
     ]
    }
   ],
   "source": [
    "from xpot.optimiser import NamedOptimiser\n",
    "\n",
    "kwargs = {\n",
    "        \"n_initial_points\": 5,\n",
    "        }\n",
    "\n",
    "opt = NamedOptimiser(mlip.optimisation_space, mlip.sweep_path, kwargs)"
   ]
  },
  {
   "cell_type": "markdown",
   "metadata": {},
   "source": [
    "We limit the number of iterations to 10, and perform 10 fits and record their loss values. By using `optimiser.run_optimisation` we run a fit and evaluate all of the parameters & results produced from a single iteration."
   ]
  },
  {
   "cell_type": "code",
   "execution_count": 5,
   "metadata": {},
   "outputs": [
    {
     "name": "stdout",
     "output_type": "stream",
     "text": [
      "..."
     ]
    }
   ],
   "source": [
    "n_calls = 10\n",
    "\n",
    "while opt.iter <= n_calls:\n",
    "    opt.run_optimisation(mlip.fit, path = mlip.sweep_path)"
   ]
  },
  {
   "cell_type": "markdown",
   "metadata": {},
   "source": [
    "Finally, after we have completed the optimisation across the desired number of iterations (or achieved the desired loss value), we produce the final tables of the errors and parameters from the optimisation sweep."
   ]
  },
  {
   "cell_type": "code",
   "execution_count": null,
   "metadata": {},
   "outputs": [],
   "source": [
    "opt.tabulate_final_results(mlip.sweep_path)"
   ]
  }
 ],
 "metadata": {
  "kernelspec": {
   "display_name": "xpot-dev",
   "language": "python",
   "name": "python3"
  },
  "language_info": {
   "codemirror_mode": {
    "name": "ipython",
    "version": 3
   },
   "file_extension": ".py",
   "mimetype": "text/x-python",
   "name": "python",
   "nbconvert_exporter": "python",
   "pygments_lexer": "ipython3",
   "version": "3.10.13"
  }
 },
 "nbformat": 4,
 "nbformat_minor": 2
}
