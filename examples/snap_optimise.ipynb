{
 "cells": [
  {
   "cell_type": "code",
   "execution_count": null,
   "metadata": {},
   "outputs": [],
   "source": [
    "!export PYTHONPATH=/u/vld/scat7402/software/FitSNAP:$PYTHONPATH"
   ]
  },
  {
   "cell_type": "code",
   "execution_count": null,
   "metadata": {},
   "outputs": [],
   "source": [
    "from xpot.models import SNAP\n",
    "\n",
    "mlip = SNAP(\"/u/vld/scat7402/Documents/xpot-v2/examples/snap_input.hjson\")"
   ]
  },
  {
   "cell_type": "code",
   "execution_count": null,
   "metadata": {},
   "outputs": [],
   "source": [
    "from xpot.optimiser import NamedOptimiser\n",
    "\n",
    "kwargs = {\n",
    "        \"n_initial_points\": 5,\n",
    "        }\n",
    "\n",
    "opt = NamedOptimiser(mlip.optimisation_space, mlip.sweep_path, kwargs)"
   ]
  },
  {
   "cell_type": "code",
   "execution_count": null,
   "metadata": {},
   "outputs": [],
   "source": [
    "n_calls = 10\n",
    "\n",
    "while opt.iter <= n_calls:\n",
    "    opt.run_optimisation(mlip.fit, path = mlip.sweep_path)"
   ]
  },
  {
   "cell_type": "code",
   "execution_count": null,
   "metadata": {},
   "outputs": [],
   "source": [
    "opt.tabulate_final_results(mlip.sweep_path)"
   ]
  }
 ],
 "metadata": {
  "kernelspec": {
   "display_name": "xpot-dev",
   "language": "python",
   "name": "python3"
  },
  "language_info": {
   "codemirror_mode": {
    "name": "ipython",
    "version": 3
   },
   "file_extension": ".py",
   "mimetype": "text/x-python",
   "name": "python",
   "nbconvert_exporter": "python",
   "pygments_lexer": "ipython3",
   "version": "3.10.13"
  }
 },
 "nbformat": 4,
 "nbformat_minor": 2
}
